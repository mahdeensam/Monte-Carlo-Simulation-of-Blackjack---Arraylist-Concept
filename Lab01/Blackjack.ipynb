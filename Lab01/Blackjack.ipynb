{
 "cells": [
  {
   "cell_type": "markdown",
   "metadata": {},
   "source": [
    "#Monte Carlo simulation for Blackjack in Python"
   ]
  },
  {
   "cell_type": "code",
   "execution_count": 17,
   "metadata": {},
   "outputs": [],
   "source": [
    "import random\n",
    "\n",
    "def get_card_value(card):\n",
    "    if card in ['J', 'Q', 'K']:\n",
    "        return 10\n",
    "    elif card == 'A':\n",
    "        return 11\n",
    "    else:\n",
    "        return int(card)"
   ]
  },
  {
   "attachments": {},
   "cell_type": "markdown",
   "metadata": {},
   "source": [
    "The get_card_value function in the Python code is used to determine the value of a card in the game of Blackjack.\n",
    "\n",
    "The function takes a card as an input (represented as a string, such as \"J\", \"Q\", \"K\", or \"A\"). If the card is a Jack, Queen, or King, the function returns the value 10. If the card is an Ace, the function returns the value 11. For all other cards, the function returns the integer value of the card.\n",
    "\n",
    "The purpose of this function is to convert the string representation of a card into a numerical value that can be used in the game and in calculations. This will be used in other parts of the code, such as the get_hand_value function to determine the total value of a player's hand.\n",
    "\n",
    "\n",
    "\n"
   ]
  },
  {
   "cell_type": "code",
   "execution_count": 18,
   "metadata": {},
   "outputs": [],
   "source": [
    "def get_hand_value(hand):\n",
    "    value = sum(hand)\n",
    "    for card in hand:\n",
    "        if card == 11 and value > 21:\n",
    "            value -= 10\n",
    "    return value"
   ]
  },
  {
   "attachments": {},
   "cell_type": "markdown",
   "metadata": {},
   "source": [
    "The get_hand_value function calculates the total value of a hand of cards in the game of Blackjack.\n",
    "\n",
    "The function takes a hand (a list of card values) as input and starts by summing up the values in the hand. Then, it iterates over each card in the hand and checks if the card is an Ace (represented as the value 11) and the total value of the hand is greater than 21. If both conditions are true, the function subtracts 10 from the value of the hand. This is because an Ace can either be worth 1 or 11, and the goal is to have the value of the hand be as close to 21 as possible while still being less than or equal to 21.\n",
    "\n",
    "Finally, the function returns the calculated value of the hand. This value will be used to determine the outcome of the game, such as whether the player has won, lost, or tied."
   ]
  },
  {
   "cell_type": "code",
   "execution_count": 19,
   "metadata": {},
   "outputs": [],
   "source": [
    "def play_hand(deck):\n",
    "    hand = [deck.pop(), deck.pop()]\n",
    "    while get_hand_value(hand) < 17:\n",
    "        hand.append(deck.pop())\n",
    "    return hand"
   ]
  },
  {
   "attachments": {},
   "cell_type": "markdown",
   "metadata": {},
   "source": [
    "The play_hand function in the code implements the logic for playing one hand of Blackjack.\n",
    "\n",
    "The function takes a deck (a list of card values) as input and starts by removing the first two cards from the deck and storing them in the hand list. This represents the initial two cards that are dealt to the player at the start of the game.\n",
    "\n",
    "Next, the function enters a loop. The loop continues until the value of the hand (calculated by calling the get_hand_value function) is less than 17. While the value of the hand is less than 17, the function continues to draw cards from the deck and add them to the hand.\n",
    "\n",
    "Once the value of the hand is greater than or equal to 17, the function returns the hand to the caller. This represents the final set of cards that the player has in their hand at the end of the hand.\n",
    "\n",
    "This function implements the basic strategy of Blackjack, which is to \"hit\" (take another card) while the value of the hand is less than 17, and \"stand\" (stop taking cards) when the value of the hand is greater than or equal to 17."
   ]
  },
  {
   "cell_type": "code",
   "execution_count": 20,
   "metadata": {},
   "outputs": [],
   "source": [
    "def simulate_game(deck):\n",
    "    player_hand = play_hand(deck)\n",
    "    dealer_hand = play_hand(deck)\n",
    "    player_value = get_hand_value(player_hand)\n",
    "    dealer_value = get_hand_value(dealer_hand)\n",
    "    if player_value > 21:\n",
    "        return -1\n",
    "    elif dealer_value > 21:\n",
    "        return 1\n",
    "    elif player_value > dealer_value:\n",
    "        return 1\n",
    "    else:\n",
    "        return -1"
   ]
  },
  {
   "attachments": {},
   "cell_type": "markdown",
   "metadata": {},
   "source": [
    "The simulate_game function simulates one game of Blackjack and returns the outcome of the game.\n",
    "\n",
    "The function takes a deck (a list of card values) as input and starts by calling the play_hand function twice, once for the player's hand and once for the dealer's hand. These calls return the final set of cards for each player.\n",
    "\n",
    "Next, the function calculates the value of each player's hand by calling the get_hand_value function. The values are stored in the player_value and dealer_value variables.\n",
    "\n",
    "Then, the function checks if either player has exceeded a value of 21 (i.e., bust). If the player has bust, the function returns -1 to indicate that the player has lost the game. If the dealer has bust, the function returns 1 to indicate that the player has won the game.\n",
    "\n",
    "If neither player has bust, the function compares the values of the player's and dealer's hands and returns 1 if the player's value is greater, and -1 if the dealer's value is greater.\n",
    "\n",
    "This function implements the basic rules of Blackjack and uses the play_hand and get_hand_value functions to simulate one game of Blackjack. The outcome of the game is represented by the return value, where 1 indicates a win for the player and -1 indicates a loss for the player.\n",
    "\n",
    "\n",
    "\n"
   ]
  },
  {
   "cell_type": "code",
   "execution_count": 21,
   "metadata": {},
   "outputs": [],
   "source": [
    "def run_simulation(num_simulations):\n",
    "    results = []\n",
    "    deck = [2, 3, 4, 5, 6, 7, 8, 9, 10, 10, 10, 10, 11] * 4\n",
    "    for i in range(num_simulations):\n",
    "        random.shuffle(deck)\n",
    "        results.append(simulate_game(deck[:]))\n",
    "    return sum(results) / num_simulations"
   ]
  },
  {
   "attachments": {},
   "cell_type": "markdown",
   "metadata": {},
   "source": [
    "The run_simulation function runs multiple simulations of Blackjack games and returns the average outcome of the simulations.\n",
    "\n",
    "The function takes an integer argument num_simulations, which represents the number of games to simulate.\n",
    "\n",
    "The function starts by creating a list results to store the outcome of each simulation and a deck of cards, represented by a list of card values. The deck is created by repeating the list of card values [2, 3, 4, 5, 6, 7, 8, 9, 10, 10, 10, 10, 11] four times to represent a standard deck of 52 cards.\n",
    "\n",
    "Next, the function enters a loop that runs for num_simulations iterations. In each iteration, the function shuffles the deck using the random.shuffle function, and then calls the simulate_game function with a copy of the deck (created by deck[:]). The outcome of the simulation is stored in the results list.\n",
    "\n",
    "Finally, the function returns the average outcome of the simulations, which is calculated as the sum of the results list divided by num_simulations.\n",
    "\n",
    "This function uses the simulate_game function to run multiple simulations of Blackjack games and returns the average outcome of the simulations. The run_simulation function can be used to estimate the expected return of a player in a game of Blackjack, given a particular set of rules and playing strategy."
   ]
  },
  {
   "cell_type": "code",
   "execution_count": 22,
   "metadata": {},
   "outputs": [
    {
     "name": "stdout",
     "output_type": "stream",
     "text": [
      "-0.1684\n"
     ]
    }
   ],
   "source": [
    "print(run_simulation(10000))\n"
   ]
  },
  {
   "attachments": {},
   "cell_type": "markdown",
   "metadata": {},
   "source": [
    "The output of the print statement would be a single floating-point number representing the average outcome of 10,000 simulations of Blackjack games. The exact value will depend on the specific implementation of the simulate_game and run_simulation functions and the randomness inherent in the simulation.\n",
    "\n",
    "This output can be used to estimate the expected return of a player in a game of Blackjack, given the particular set of rules and playing strategy implemented in the simulation."
   ]
  },
  {
   "cell_type": "markdown",
   "metadata": {},
   "source": []
  }
 ],
 "metadata": {
  "kernelspec": {
   "display_name": "Python 3",
   "language": "python",
   "name": "python3"
  },
  "language_info": {
   "codemirror_mode": {
    "name": "ipython",
    "version": 3
   },
   "file_extension": ".py",
   "mimetype": "text/x-python",
   "name": "python",
   "nbconvert_exporter": "python",
   "pygments_lexer": "ipython3",
   "version": "3.9.13"
  },
  "orig_nbformat": 4,
  "vscode": {
   "interpreter": {
    "hash": "40d3a090f54c6569ab1632332b64b2c03c39dcf918b08424e98f38b5ae0af88f"
   }
  }
 },
 "nbformat": 4,
 "nbformat_minor": 2
}
